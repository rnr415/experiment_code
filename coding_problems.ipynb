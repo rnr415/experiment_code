{
  "nbformat": 4,
  "nbformat_minor": 0,
  "metadata": {
    "colab": {
      "name": "Untitled0.ipynb",
      "provenance": [],
      "authorship_tag": "ABX9TyO+myK+WT2Ycsb511tLiRjk",
      "include_colab_link": true
    },
    "kernelspec": {
      "name": "python3",
      "display_name": "Python 3"
    }
  },
  "cells": [
    {
      "cell_type": "markdown",
      "metadata": {
        "id": "view-in-github",
        "colab_type": "text"
      },
      "source": [
        "<a href=\"https://colab.research.google.com/github/rnr415/experiment_code/blob/main/coding_problems.ipynb\" target=\"_parent\"><img src=\"https://colab.research.google.com/assets/colab-badge.svg\" alt=\"Open In Colab\"/></a>"
      ]
    },
    {
      "cell_type": "markdown",
      "metadata": {
        "id": "yUyHrXsgeZoL"
      },
      "source": [
        "Leet 471 problem. "
      ]
    },
    {
      "cell_type": "code",
      "metadata": {
        "id": "7zaqFc4rffVl",
        "outputId": "f38bde32-a6aa-496f-bd10-dd45593ab6a4",
        "colab": {
          "base_uri": "https://localhost:8080/"
        }
      },
      "source": [
        "print(\"Hello World\")\n",
        "\n",
        "input_string = \"aabcbcaabaab\"\n",
        "\n",
        "\n",
        "curr_enc_str = ''\n",
        "prev_sub_str = ''\n",
        "for i in range(len(input_string)):\n",
        "  print(input_string[i])"
      ],
      "execution_count": 3,
      "outputs": [
        {
          "output_type": "stream",
          "text": [
            "Hello World\n",
            "a\n",
            "a\n",
            "b\n",
            "c\n",
            "b\n",
            "c\n",
            "a\n",
            "a\n",
            "b\n",
            "a\n",
            "a\n",
            "b\n"
          ],
          "name": "stdout"
        }
      ]
    }
  ]
}