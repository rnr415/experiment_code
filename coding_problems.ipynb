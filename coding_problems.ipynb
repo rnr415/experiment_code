{
  "nbformat": 4,
  "nbformat_minor": 0,
  "metadata": {
    "colab": {
      "name": "Untitled0.ipynb",
      "provenance": [],
      "authorship_tag": "ABX9TyMyx71eXv7mBjA9nPxecBD2",
      "include_colab_link": true
    },
    "kernelspec": {
      "name": "python3",
      "display_name": "Python 3"
    }
  },
  "cells": [
    {
      "cell_type": "markdown",
      "metadata": {
        "id": "view-in-github",
        "colab_type": "text"
      },
      "source": [
        "<a href=\"https://colab.research.google.com/github/rnr415/experiment_code/blob/main/coding_problems.ipynb\" target=\"_parent\"><img src=\"https://colab.research.google.com/assets/colab-badge.svg\" alt=\"Open In Colab\"/></a>"
      ]
    },
    {
      "cell_type": "markdown",
      "metadata": {
        "id": "yUyHrXsgeZoL"
      },
      "source": [
        "Leet 471 problem. "
      ]
    },
    {
      "cell_type": "code",
      "metadata": {
        "id": "7zaqFc4rffVl"
      },
      "source": [
        "print(\"Hello World\")\n",
        "\n",
        "input_string = \"aabcbcaabaab\"\n",
        "\n",
        "\n",
        "curr_enc_str = ''\n",
        "prev_sub_str = ''\n",
        "for i in range(len(input_string)):\n",
        "  print(input_string[i])"
      ],
      "execution_count": null,
      "outputs": []
    },
    {
      "cell_type": "code",
      "metadata": {
        "id": "oUKyDAZ-JT9x",
        "colab": {
          "base_uri": "https://localhost:8080/"
        },
        "outputId": "761b7308-3554-4640-b671-0b950dfea655"
      },
      "source": [
        "import math\n",
        "\n",
        "def find_sequences(input_str):\n",
        "  input_sequence = [input_str]\n",
        "  seq_count = 1\n",
        "  enc_seq_str = ''\n",
        "  prior_str = ''\n",
        "  post_str = ''\n",
        "  for incr in range(1,len(input_str)//2+1):\n",
        "    # print(\"-----{}-----\".format(incr))\n",
        "    seq_str = list()\n",
        "    j = 0\n",
        "    while j < len(input_str):\n",
        "      # print(\"j - {}, incr - {}\".format(j, incr))\n",
        "      k = j+incr\n",
        "      if k+incr > len(input_str):\n",
        "        if seq_count > 1:\n",
        "          post_str = input_str[j+incr:]\n",
        "          input_sequence.append(\"{}{}[{}]{}\".format(prior_str,seq_count, enc_seq_str, post_str))\n",
        "          # print(\"{} - {} - {}\".format(prior_str, enc_seq_str, post_str))\n",
        "          prior_str = ''\n",
        "          post_str = ''\n",
        "          seq_count = 1\n",
        "          enc_seq_str = ''\n",
        "        j += 1\n",
        "        break\n",
        "      if input_str[j:j+incr] == input_str[k:k+incr]:\n",
        "        # print(\"{} == {}\".format(input_str[j:j+incr], input_str[k:k+incr]))\n",
        "        if seq_count == 1:\n",
        "          prior_str = input_str[:j]\n",
        "          # print(\"prior_str - {}\".format(prior_str))\n",
        "        seq_count += 1\n",
        "        enc_seq_str = input_str[j:j+incr]\n",
        "        j += incr\n",
        "      elif seq_count > 1:\n",
        "        post_str = input_str[j+incr:]\n",
        "        # print(\"{} - {} - {}\".format(prior_str, enc_seq_str, post_str))\n",
        "        input_sequence.append(\"{}{}[{}]{}\".format(prior_str,seq_count, enc_seq_str, post_str))\n",
        "        seq_count = 1\n",
        "        enc_seq_str = ''\n",
        "        prior_str = ''\n",
        "        post_str = ''\n",
        "        j += 1 \n",
        "      else:\n",
        "        # print(\"NO MATCH\")\n",
        "        j += 1 \n",
        "        continue\n",
        "        \n",
        "  return input_sequence      \n",
        "\n",
        "input_str = \"abc\"\n",
        "print(input_str)\n",
        "print(\"Sequences found are:\")\n",
        "find_sequences(input_str)"
      ],
      "execution_count": 55,
      "outputs": [
        {
          "output_type": "stream",
          "text": [
            "abc\n",
            "Sequences found are:\n"
          ],
          "name": "stdout"
        },
        {
          "output_type": "execute_result",
          "data": {
            "text/plain": [
              "['abc']"
            ]
          },
          "metadata": {
            "tags": []
          },
          "execution_count": 55
        }
      ]
    },
    {
      "cell_type": "code",
      "metadata": {
        "id": "nsv55_NwjtHC",
        "outputId": "908cdced-43e8-4509-f478-2c9e44cbbb4a",
        "colab": {
          "base_uri": "https://localhost:8080/",
          "height": 1000
        }
      },
      "source": [
        "input_string = \"aaabcbcaabaabaab\"\r\n",
        "curr_pos = 0\r\n",
        "curr_str = input_string[curr_pos]\r\n",
        "\r\n",
        "candidate_list = [curr_str] \r\n",
        "next_candidate_list = list()\r\n",
        "while len(candidate_list) > 0:\r\n",
        "  print(candidate_list)\r\n",
        "  curr_pos += 1\r\n",
        "  curr_str = candidate_list.pop() + input_string[curr_pos]\r\n",
        "  candidates = find_sequences(curr_str)\r\n",
        "  print(curr_str)\r\n",
        "  print(candidates)\r\n",
        "  next_candidate_list.extend(candidates)\r\n",
        "  if len(candidate_list) == 0:\r\n",
        "    candidate_list = next_candidate_list"
      ],
      "execution_count": 59,
      "outputs": [
        {
          "output_type": "stream",
          "text": [
            "['a']\n",
            "aa\n",
            "['aa', '2[a]']\n",
            "['aa', '2[a]']\n",
            "2[a]a\n",
            "['2[a]a']\n",
            "['aa', '2[a]a']\n",
            "2[a]ab\n",
            "['2[a]ab']\n",
            "['aa', '2[a]ab']\n",
            "2[a]abc\n",
            "['2[a]abc']\n",
            "['aa', '2[a]abc']\n",
            "2[a]abcb\n",
            "['2[a]abcb']\n",
            "['aa', '2[a]abcb']\n",
            "2[a]abcbc\n",
            "['2[a]abcbc', '2[a]a2[bc]']\n",
            "['aa', '2[a]abcbc', '2[a]a2[bc]']\n",
            "2[a]a2[bc]a\n",
            "['2[a]a2[bc]a']\n",
            "['aa', '2[a]abcbc', '2[a]a2[bc]a']\n",
            "2[a]a2[bc]aa\n",
            "['2[a]a2[bc]aa', '2[a]a2[bc]2[a]']\n",
            "['aa', '2[a]abcbc', '2[a]a2[bc]aa', '2[a]a2[bc]2[a]']\n",
            "2[a]a2[bc]2[a]b\n",
            "['2[a]a2[bc]2[a]b']\n",
            "['aa', '2[a]abcbc', '2[a]a2[bc]aa', '2[a]a2[bc]2[a]b']\n",
            "2[a]a2[bc]2[a]ba\n",
            "['2[a]a2[bc]2[a]ba']\n",
            "['aa', '2[a]abcbc', '2[a]a2[bc]aa', '2[a]a2[bc]2[a]ba']\n",
            "2[a]a2[bc]2[a]baa\n",
            "['2[a]a2[bc]2[a]baa', '2[a]a2[bc]2[a]b2[a]']\n",
            "['aa', '2[a]abcbc', '2[a]a2[bc]aa', '2[a]a2[bc]2[a]baa', '2[a]a2[bc]2[a]b2[a]']\n",
            "2[a]a2[bc]2[a]b2[a]b\n",
            "['2[a]a2[bc]2[a]b2[a]b', '2[a]a2[bc]2[2[a]b]']\n",
            "['aa', '2[a]abcbc', '2[a]a2[bc]aa', '2[a]a2[bc]2[a]baa', '2[a]a2[bc]2[a]b2[a]b', '2[a]a2[bc]2[2[a]b]']\n",
            "2[a]a2[bc]2[2[a]b]a\n",
            "['2[a]a2[bc]2[2[a]b]a', '2[a]a2[bc]2[2[]a]b]a']\n",
            "['aa', '2[a]abcbc', '2[a]a2[bc]aa', '2[a]a2[bc]2[a]baa', '2[a]a2[bc]2[a]b2[a]b', '2[a]a2[bc]2[2[a]b]a', '2[a]a2[bc]2[2[]a]b]a']\n",
            "2[a]a2[bc]2[2[]a]b]aa\n",
            "['2[a]a2[bc]2[2[]a]b]aa', '2[a]a2[bc]2[2[]a]b]2[a]', '2[a]a2[bc]2[2[]]a]b]aa']\n",
            "['aa', '2[a]abcbc', '2[a]a2[bc]aa', '2[a]a2[bc]2[a]baa', '2[a]a2[bc]2[a]b2[a]b', '2[a]a2[bc]2[2[a]b]a', '2[a]a2[bc]2[2[]a]b]aa', '2[a]a2[bc]2[2[]a]b]2[a]', '2[a]a2[bc]2[2[]]a]b]aa']\n",
            "2[a]a2[bc]2[2[]]a]b]aab\n",
            "['2[a]a2[bc]2[2[]]a]b]aab', '2[a]a2[bc]2[2[2[]]a]b]aab', '2[a]a2[bc]2[2[]]a]b]2[a]b', '2[a]a2[bc]2[2[]]]a]b]aab']\n",
            "['aa', '2[a]abcbc', '2[a]a2[bc]aa', '2[a]a2[bc]2[a]baa', '2[a]a2[bc]2[a]b2[a]b', '2[a]a2[bc]2[2[a]b]a', '2[a]a2[bc]2[2[]a]b]aa', '2[a]a2[bc]2[2[]a]b]2[a]', '2[a]a2[bc]2[2[]]a]b]aab', '2[a]a2[bc]2[2[2[]]a]b]aab', '2[a]a2[bc]2[2[]]a]b]2[a]b', '2[a]a2[bc]2[2[]]]a]b]aab']\n"
          ],
          "name": "stdout"
        },
        {
          "output_type": "error",
          "ename": "IndexError",
          "evalue": "ignored",
          "traceback": [
            "\u001b[0;31m---------------------------------------------------------------------------\u001b[0m",
            "\u001b[0;31mIndexError\u001b[0m                                Traceback (most recent call last)",
            "\u001b[0;32m<ipython-input-59-175ffc57cfb3>\u001b[0m in \u001b[0;36m<module>\u001b[0;34m()\u001b[0m\n\u001b[1;32m      8\u001b[0m   \u001b[0mprint\u001b[0m\u001b[0;34m(\u001b[0m\u001b[0mcandidate_list\u001b[0m\u001b[0;34m)\u001b[0m\u001b[0;34m\u001b[0m\u001b[0;34m\u001b[0m\u001b[0m\n\u001b[1;32m      9\u001b[0m   \u001b[0mcurr_pos\u001b[0m \u001b[0;34m+=\u001b[0m \u001b[0;36m1\u001b[0m\u001b[0;34m\u001b[0m\u001b[0;34m\u001b[0m\u001b[0m\n\u001b[0;32m---> 10\u001b[0;31m   \u001b[0mcurr_str\u001b[0m \u001b[0;34m=\u001b[0m \u001b[0mcandidate_list\u001b[0m\u001b[0;34m.\u001b[0m\u001b[0mpop\u001b[0m\u001b[0;34m(\u001b[0m\u001b[0;34m)\u001b[0m \u001b[0;34m+\u001b[0m \u001b[0minput_string\u001b[0m\u001b[0;34m[\u001b[0m\u001b[0mcurr_pos\u001b[0m\u001b[0;34m]\u001b[0m\u001b[0;34m\u001b[0m\u001b[0;34m\u001b[0m\u001b[0m\n\u001b[0m\u001b[1;32m     11\u001b[0m   \u001b[0mcandidates\u001b[0m \u001b[0;34m=\u001b[0m \u001b[0mfind_sequences\u001b[0m\u001b[0;34m(\u001b[0m\u001b[0mcurr_str\u001b[0m\u001b[0;34m)\u001b[0m\u001b[0;34m\u001b[0m\u001b[0;34m\u001b[0m\u001b[0m\n\u001b[1;32m     12\u001b[0m   \u001b[0mprint\u001b[0m\u001b[0;34m(\u001b[0m\u001b[0mcurr_str\u001b[0m\u001b[0;34m)\u001b[0m\u001b[0;34m\u001b[0m\u001b[0;34m\u001b[0m\u001b[0m\n",
            "\u001b[0;31mIndexError\u001b[0m: string index out of range"
          ]
        }
      ]
    }
  ]
}