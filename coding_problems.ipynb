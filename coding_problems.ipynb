{
  "nbformat": 4,
  "nbformat_minor": 0,
  "metadata": {
    "colab": {
      "name": "Untitled0.ipynb",
      "provenance": [],
      "authorship_tag": "ABX9TyOa7R5EaF6HDtUIhLmGbFiN",
      "include_colab_link": true
    },
    "kernelspec": {
      "name": "python3",
      "display_name": "Python 3"
    }
  },
  "cells": [
    {
      "cell_type": "markdown",
      "metadata": {
        "id": "view-in-github",
        "colab_type": "text"
      },
      "source": [
        "<a href=\"https://colab.research.google.com/github/rnr415/experiment_code/blob/main/coding_problems.ipynb\" target=\"_parent\"><img src=\"https://colab.research.google.com/assets/colab-badge.svg\" alt=\"Open In Colab\"/></a>"
      ]
    },
    {
      "cell_type": "markdown",
      "metadata": {
        "id": "yUyHrXsgeZoL"
      },
      "source": [
        "Leet 471 problem. "
      ]
    },
    {
      "cell_type": "code",
      "metadata": {
        "id": "7zaqFc4rffVl"
      },
      "source": [
        "print(\"Hello World\")\n",
        "\n",
        "input_string = \"aabcbcaabaab\"\n",
        "\n",
        "\n",
        "curr_enc_str = ''\n",
        "prev_sub_str = ''\n",
        "for i in range(len(input_string)):\n",
        "  print(input_string[i])"
      ],
      "execution_count": null,
      "outputs": []
    },
    {
      "cell_type": "code",
      "metadata": {
        "id": "oUKyDAZ-JT9x",
        "outputId": "1befc879-a1fa-4bb6-94d8-4b231912e76d",
        "colab": {
          "base_uri": "https://localhost:8080/"
        }
      },
      "source": [
        "import math\n",
        "input_str = \"aabaab\"\n",
        "\n",
        "input_sequence = list()\n",
        "for incr in range(1,math.floor(len(input_str)/2)+1):\n",
        "  print(\"-----{}-----\".format(incr))\n",
        "  seq_str = list()\n",
        "  for j in range(len(input_str)):\n",
        "    k = j+incr\n",
        "    if k+incr > len(input_str):\n",
        "      break\n",
        "    if input_str[j:j+incr] == input_str[k:k+incr]:\n",
        "      print(\"{} == {}\".format(input_str[j:j+incr], input_str[k:k+incr]))\n",
        "      #seq_str.append(input_str[j:j+incr])\n",
        "      input_sequence.append(input_str[j:j+incr])\n",
        "    else:\n",
        "      print(\"{} != {}\".format(input_str[j:j+incr], input_str[k:k+incr]))\n",
        "      continue\n",
        "  \n",
        "  # input_sequence.append(seq_str)\n",
        "\n",
        "print(input_sequence)"
      ],
      "execution_count": 42,
      "outputs": [
        {
          "output_type": "stream",
          "text": [
            "-----1-----\n",
            "a == a\n",
            "a != b\n",
            "b != a\n",
            "a == a\n",
            "a != b\n",
            "-----2-----\n",
            "aa != ba\n",
            "ab != aa\n",
            "ba != ab\n",
            "-----3-----\n",
            "aab == aab\n",
            "['a', 'a', 'aab']\n"
          ],
          "name": "stdout"
        }
      ]
    },
    {
      "cell_type": "code",
      "metadata": {
        "id": "nr84sv76SPBd",
        "outputId": "cf688882-28cd-4c75-8e85-004ef7ce008e",
        "colab": {
          "base_uri": "https://localhost:8080/"
        }
      },
      "source": [
        "str = \"aabc\"\n",
        "x=0\n",
        "y=2\n",
        "print(str[x+y:x+y+2])"
      ],
      "execution_count": 32,
      "outputs": [
        {
          "output_type": "stream",
          "text": [
            "bc\n"
          ],
          "name": "stdout"
        }
      ]
    }
  ]
}