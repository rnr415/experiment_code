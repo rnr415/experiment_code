{
  "nbformat": 4,
  "nbformat_minor": 0,
  "metadata": {
    "colab": {
      "name": "Untitled0.ipynb",
      "provenance": [],
      "authorship_tag": "ABX9TyP3TQgLspvv022ge0qOkJ0n",
      "include_colab_link": true
    },
    "kernelspec": {
      "name": "python3",
      "display_name": "Python 3"
    }
  },
  "cells": [
    {
      "cell_type": "markdown",
      "metadata": {
        "id": "view-in-github",
        "colab_type": "text"
      },
      "source": [
        "<a href=\"https://colab.research.google.com/github/rnr415/experiment_code/blob/main/coding_problems.ipynb\" target=\"_parent\"><img src=\"https://colab.research.google.com/assets/colab-badge.svg\" alt=\"Open In Colab\"/></a>"
      ]
    },
    {
      "cell_type": "markdown",
      "metadata": {
        "id": "yUyHrXsgeZoL"
      },
      "source": [
        "## Leet 471 problem. \n",
        "\n",
        "Given a non-empty string, encode the string such that its encoded length is the shortest.\n",
        "\n",
        "The encoding rule is: k[encoded_string], where the encoded_string inside the square brackets is being repeated exactly k times.\n",
        "\n",
        "Note: k will be a positive integer and encoded string will not be empty or have extra space. You may assume that the input string contains only lowercase English letters. The string's length is at most 160. If an encoding process does not make the string shorter, then do not encode it. If there are several solutions, return any of them is fine.\n",
        "\n",
        "> __Example 1:__\n",
        ">\n",
        "> Input: \"aaa\"\n",
        "> \n",
        "> Output: \"aaa\"\n",
        "> \n",
        "> Explanation: There is no way to encode it such that it is shorter than the input string, so we do not encode it.\n",
        ">\n",
        ">\\\\\n",
        "> __Example 2:__\n",
        "> \n",
        "> Input: \"aaaaa\"\n",
        "> \n",
        "> Output: \"5[a]\"\n",
        "> \n",
        "> Explanation: \"5[a]\" is shorter than \"aaaaa\" by 1 character.\n",
        ">\n",
        ">\\\\\n",
        "> __Example 3:__\n",
        "> \n",
        "> Input: \"aaaaaaaaaa\"\n",
        ">\n",
        "> Output: \"10[a]\"\n",
        ">\n",
        "> Explanation: \"a9[a]\" or \"9[a]a\" are also valid solutions, both of them have the same length = 5, which is the same as \"10[a]\".\n",
        ">\n",
        ">\\\\\n",
        "> __Example 4:__\n",
        "> \n",
        "> Input: \"aabcaabcd\"\n",
        ">\n",
        "> Output: \"2[aabc]d\"\n",
        ">\n",
        "> Explanation: \"aabc\" occurs twice, so one answer can be \"2[aabc]d\".\n",
        "> \n",
        ">\\\\\n",
        ">\n",
        "> __Example 5:__\n",
        "> Input: \"abbbabbbcabbbabbbc\"\n",
        ">\n",
        "> Output: \"2[2[abbb]c]\"\n",
        ">\n",
        "> Explanation: \"abbbabbbc\" occurs twice, but \"abbbabbbc\" can also be encoded to \"2[abbb]c\", so one answer can be \"2[2[abbb]c]\".\n"
      ]
    },
    {
      "cell_type": "code",
      "metadata": {
        "id": "oUKyDAZ-JT9x",
        "colab": {
          "base_uri": "https://localhost:8080/"
        },
        "outputId": "60c9034a-3ac5-4646-e1b7-f2fc808a2ce2"
      },
      "source": [
        "import math\n",
        "\n",
        "class EncodedString:\n",
        "  def __init__(self, enc_str, count, start):\n",
        "    self.enc_str = enc_str\n",
        "    self.count = count\n",
        "    self.start = start\n",
        "    self.end = start + len(enc_str) \n",
        "    self.encode = len(str(self.count))+len(self.enc_str) + 2 < self.end - self.start\n",
        "\n",
        "  def __repr__(self):\n",
        "    return \"[{}]{} {} - {} --{}--\".format(self.count, self.enc_str, self.start, self.end, self.encode)\n",
        "  \n",
        "  def incr_count(self):\n",
        "    self.count += 1\n",
        "    self.end = self.end + len(self.enc_str)\n",
        "    self.encode = len(str(self.count))+len(self.enc_str) + 2 < self.end - self.start\n",
        "\n",
        "  def is_encoding_better(self):\n",
        "    return self.encode\n",
        "  \n",
        "  def len_source_string(self):\n",
        "    return self.end - self.start\n",
        "  \n",
        "  def len_encoded_string(self):\n",
        "    return len(self.enc_str)+len(str(self.count)) + 2\n",
        "\n",
        "  def is_overlapping(self, encoded_str):\n",
        "    if self.start < encoded_str.end or self.end > encoded_str.start:\n",
        "      return True\n",
        "    else:\n",
        "      return False\n",
        "  \n",
        "def find_sequences(input_str):\n",
        "  input_sequence = list()\n",
        "  seq_count = 1\n",
        "  enc_seq_str = ''\n",
        "  enc_seq_str_pos = (0, 0)\n",
        "  encoded_string = None\n",
        "  prior_str = ''\n",
        "  post_str = ''\n",
        "  for incr in range(1,len(input_str)//2+1):\n",
        "    # print(\"-----{}-----\".format(incr))\n",
        "    seq_str = list()\n",
        "    j = 0\n",
        "    while j < len(input_str):\n",
        "      # print(\"j - {}, incr - {}\".format(j, incr))\n",
        "      k = j+incr\n",
        "      if k+incr > len(input_str):\n",
        "        if seq_count > 1:\n",
        "          post_str = input_str[j+incr:]\n",
        "          # input_sequence.append(\"{}{}[{}]{}\".format(prior_str,seq_count, enc_seq_str, post_str))\n",
        "          if (encoded_string.is_encoding_better()):\n",
        "            input_sequence.append(encoded_string)\n",
        "          print(encoded_string)\n",
        "          print(encoded_string.is_encoding_better())\n",
        "          # print(\"{} - {} - {}\".format(prior_str, enc_seq_str, post_str))\n",
        "          seq_count = 1\n",
        "          enc_seq_str = ''\n",
        "        j += 1\n",
        "        break\n",
        "      if input_str[j:j+incr] == input_str[k:k+incr]:\n",
        "        # print(\"{} == {}\".format(input_str[j:j+incr], input_str[k:k+incr]))\n",
        "        if seq_count == 1:\n",
        "          prior_str = input_str[:j]\n",
        "          encoded_string = EncodedString(input_str[j:j+incr],seq_count,j)\n",
        "          # print(\"prior_str - {}\".format(prior_str))\n",
        "        seq_count += 1\n",
        "        encoded_string.incr_count()\n",
        "        enc_seq_str = input_str[j:j+incr]\n",
        "        j += incr\n",
        "      elif seq_count > 1:\n",
        "        post_str = input_str[j+incr:]\n",
        "        # print(\"{} - {} - {}\".format(prior_str, enc_seq_str, post_str))\n",
        "        # input_sequence.append(\"{}{}[{}]{}\".format(prior_str,seq_count, enc_seq_str, post_str))\n",
        "        if (encoded_string.is_encoding_better()):\n",
        "          input_sequence.append(encoded_string)\n",
        "        print(encoded_string)\n",
        "        print(encoded_string.is_encoding_better())\n",
        "        seq_count = 1\n",
        "        enc_seq_str = ''\n",
        "        j += 1 \n",
        "      else:\n",
        "        # print(\"NO MATCH\")\n",
        "        j += 1 \n",
        "        continue\n",
        "        \n",
        "  return input_sequence      \n",
        "\n",
        "input_str = \"aabcbcaaaaaaabaab\"\n",
        "print(input_str)\n",
        "print(\"Sequences found are:\")\n",
        "encoded_seq = find_sequences(input_str)"
      ],
      "execution_count": 26,
      "outputs": [
        {
          "output_type": "stream",
          "text": [
            "aabcbcaaaaaaabaab\n",
            "Sequences found are:\n",
            "[2]a 0 - 2 --False--\n",
            "False\n",
            "[7]a 6 - 13 --True--\n",
            "True\n",
            "[2]a 14 - 16 --False--\n",
            "False\n",
            "[2]bc 2 - 6 --False--\n",
            "False\n",
            "[3]aa 6 - 12 --True--\n",
            "True\n",
            "[2]aaa 6 - 12 --False--\n",
            "False\n",
            "[2]aab 11 - 17 --False--\n",
            "False\n"
          ],
          "name": "stdout"
        }
      ]
    },
    {
      "cell_type": "code",
      "metadata": {
        "colab": {
          "base_uri": "https://localhost:8080/"
        },
        "id": "UZ35bB8I5lt6",
        "outputId": "91190a20-60d3-45d1-c24b-b7b3af1e0be6"
      },
      "source": [
        "x = encoded_seq[0]\n",
        "print(x)\n",
        "y = encoded_seq[1]\n",
        "print(y)\n",
        "print(x.is_overlapping(y))\n",
        "print(x.len_source_string())\n",
        "print(y.len_source_string())"
      ],
      "execution_count": 27,
      "outputs": [
        {
          "output_type": "stream",
          "text": [
            "[7]a 6 - 13 --True--\n",
            "[3]aa 6 - 12 --True--\n",
            "True\n",
            "7\n",
            "6\n"
          ],
          "name": "stdout"
        }
      ]
    },
    {
      "cell_type": "code",
      "metadata": {
        "id": "nsv55_NwjtHC",
        "colab": {
          "base_uri": "https://localhost:8080/",
          "height": 1000
        },
        "outputId": "908cdced-43e8-4509-f478-2c9e44cbbb4a"
      },
      "source": [
        "input_string = \"aaabcbcaabaabaab\"\r\n",
        "curr_pos = 0\r\n",
        "curr_str = input_string[curr_pos]\r\n",
        "\r\n",
        "candidate_list = [curr_str] \r\n",
        "next_candidate_list = list()\r\n",
        "while len(candidate_list) > 0:\r\n",
        "  print(candidate_list)\r\n",
        "  curr_pos += 1\r\n",
        "  curr_str = candidate_list.pop() + input_string[curr_pos]\r\n",
        "  candidates = find_sequences(curr_str)\r\n",
        "  print(curr_str)\r\n",
        "  print(candidates)\r\n",
        "  next_candidate_list.extend(candidates)\r\n",
        "  if len(candidate_list) == 0:\r\n",
        "    candidate_list = next_candidate_list"
      ],
      "execution_count": null,
      "outputs": [
        {
          "output_type": "stream",
          "text": [
            "['a']\n",
            "aa\n",
            "['aa', '2[a]']\n",
            "['aa', '2[a]']\n",
            "2[a]a\n",
            "['2[a]a']\n",
            "['aa', '2[a]a']\n",
            "2[a]ab\n",
            "['2[a]ab']\n",
            "['aa', '2[a]ab']\n",
            "2[a]abc\n",
            "['2[a]abc']\n",
            "['aa', '2[a]abc']\n",
            "2[a]abcb\n",
            "['2[a]abcb']\n",
            "['aa', '2[a]abcb']\n",
            "2[a]abcbc\n",
            "['2[a]abcbc', '2[a]a2[bc]']\n",
            "['aa', '2[a]abcbc', '2[a]a2[bc]']\n",
            "2[a]a2[bc]a\n",
            "['2[a]a2[bc]a']\n",
            "['aa', '2[a]abcbc', '2[a]a2[bc]a']\n",
            "2[a]a2[bc]aa\n",
            "['2[a]a2[bc]aa', '2[a]a2[bc]2[a]']\n",
            "['aa', '2[a]abcbc', '2[a]a2[bc]aa', '2[a]a2[bc]2[a]']\n",
            "2[a]a2[bc]2[a]b\n",
            "['2[a]a2[bc]2[a]b']\n",
            "['aa', '2[a]abcbc', '2[a]a2[bc]aa', '2[a]a2[bc]2[a]b']\n",
            "2[a]a2[bc]2[a]ba\n",
            "['2[a]a2[bc]2[a]ba']\n",
            "['aa', '2[a]abcbc', '2[a]a2[bc]aa', '2[a]a2[bc]2[a]ba']\n",
            "2[a]a2[bc]2[a]baa\n",
            "['2[a]a2[bc]2[a]baa', '2[a]a2[bc]2[a]b2[a]']\n",
            "['aa', '2[a]abcbc', '2[a]a2[bc]aa', '2[a]a2[bc]2[a]baa', '2[a]a2[bc]2[a]b2[a]']\n",
            "2[a]a2[bc]2[a]b2[a]b\n",
            "['2[a]a2[bc]2[a]b2[a]b', '2[a]a2[bc]2[2[a]b]']\n",
            "['aa', '2[a]abcbc', '2[a]a2[bc]aa', '2[a]a2[bc]2[a]baa', '2[a]a2[bc]2[a]b2[a]b', '2[a]a2[bc]2[2[a]b]']\n",
            "2[a]a2[bc]2[2[a]b]a\n",
            "['2[a]a2[bc]2[2[a]b]a', '2[a]a2[bc]2[2[]a]b]a']\n",
            "['aa', '2[a]abcbc', '2[a]a2[bc]aa', '2[a]a2[bc]2[a]baa', '2[a]a2[bc]2[a]b2[a]b', '2[a]a2[bc]2[2[a]b]a', '2[a]a2[bc]2[2[]a]b]a']\n",
            "2[a]a2[bc]2[2[]a]b]aa\n",
            "['2[a]a2[bc]2[2[]a]b]aa', '2[a]a2[bc]2[2[]a]b]2[a]', '2[a]a2[bc]2[2[]]a]b]aa']\n",
            "['aa', '2[a]abcbc', '2[a]a2[bc]aa', '2[a]a2[bc]2[a]baa', '2[a]a2[bc]2[a]b2[a]b', '2[a]a2[bc]2[2[a]b]a', '2[a]a2[bc]2[2[]a]b]aa', '2[a]a2[bc]2[2[]a]b]2[a]', '2[a]a2[bc]2[2[]]a]b]aa']\n",
            "2[a]a2[bc]2[2[]]a]b]aab\n",
            "['2[a]a2[bc]2[2[]]a]b]aab', '2[a]a2[bc]2[2[2[]]a]b]aab', '2[a]a2[bc]2[2[]]a]b]2[a]b', '2[a]a2[bc]2[2[]]]a]b]aab']\n",
            "['aa', '2[a]abcbc', '2[a]a2[bc]aa', '2[a]a2[bc]2[a]baa', '2[a]a2[bc]2[a]b2[a]b', '2[a]a2[bc]2[2[a]b]a', '2[a]a2[bc]2[2[]a]b]aa', '2[a]a2[bc]2[2[]a]b]2[a]', '2[a]a2[bc]2[2[]]a]b]aab', '2[a]a2[bc]2[2[2[]]a]b]aab', '2[a]a2[bc]2[2[]]a]b]2[a]b', '2[a]a2[bc]2[2[]]]a]b]aab']\n"
          ],
          "name": "stdout"
        },
        {
          "output_type": "error",
          "ename": "IndexError",
          "evalue": "ignored",
          "traceback": [
            "\u001b[0;31m---------------------------------------------------------------------------\u001b[0m",
            "\u001b[0;31mIndexError\u001b[0m                                Traceback (most recent call last)",
            "\u001b[0;32m<ipython-input-59-175ffc57cfb3>\u001b[0m in \u001b[0;36m<module>\u001b[0;34m()\u001b[0m\n\u001b[1;32m      8\u001b[0m   \u001b[0mprint\u001b[0m\u001b[0;34m(\u001b[0m\u001b[0mcandidate_list\u001b[0m\u001b[0;34m)\u001b[0m\u001b[0;34m\u001b[0m\u001b[0;34m\u001b[0m\u001b[0m\n\u001b[1;32m      9\u001b[0m   \u001b[0mcurr_pos\u001b[0m \u001b[0;34m+=\u001b[0m \u001b[0;36m1\u001b[0m\u001b[0;34m\u001b[0m\u001b[0;34m\u001b[0m\u001b[0m\n\u001b[0;32m---> 10\u001b[0;31m   \u001b[0mcurr_str\u001b[0m \u001b[0;34m=\u001b[0m \u001b[0mcandidate_list\u001b[0m\u001b[0;34m.\u001b[0m\u001b[0mpop\u001b[0m\u001b[0;34m(\u001b[0m\u001b[0;34m)\u001b[0m \u001b[0;34m+\u001b[0m \u001b[0minput_string\u001b[0m\u001b[0;34m[\u001b[0m\u001b[0mcurr_pos\u001b[0m\u001b[0;34m]\u001b[0m\u001b[0;34m\u001b[0m\u001b[0;34m\u001b[0m\u001b[0m\n\u001b[0m\u001b[1;32m     11\u001b[0m   \u001b[0mcandidates\u001b[0m \u001b[0;34m=\u001b[0m \u001b[0mfind_sequences\u001b[0m\u001b[0;34m(\u001b[0m\u001b[0mcurr_str\u001b[0m\u001b[0;34m)\u001b[0m\u001b[0;34m\u001b[0m\u001b[0;34m\u001b[0m\u001b[0m\n\u001b[1;32m     12\u001b[0m   \u001b[0mprint\u001b[0m\u001b[0;34m(\u001b[0m\u001b[0mcurr_str\u001b[0m\u001b[0;34m)\u001b[0m\u001b[0;34m\u001b[0m\u001b[0;34m\u001b[0m\u001b[0m\n",
            "\u001b[0;31mIndexError\u001b[0m: string index out of range"
          ]
        }
      ]
    }
  ]
}