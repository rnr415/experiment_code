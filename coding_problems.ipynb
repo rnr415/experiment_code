{
  "nbformat": 4,
  "nbformat_minor": 0,
  "metadata": {
    "colab": {
      "name": "Untitled0.ipynb",
      "provenance": [],
      "authorship_tag": "ABX9TyPFaEHCxXrr7j6TeqhRAc/G",
      "include_colab_link": true
    },
    "kernelspec": {
      "name": "python3",
      "display_name": "Python 3"
    }
  },
  "cells": [
    {
      "cell_type": "markdown",
      "metadata": {
        "id": "view-in-github",
        "colab_type": "text"
      },
      "source": [
        "<a href=\"https://colab.research.google.com/github/rnr415/experiment_code/blob/main/coding_problems.ipynb\" target=\"_parent\"><img src=\"https://colab.research.google.com/assets/colab-badge.svg\" alt=\"Open In Colab\"/></a>"
      ]
    },
    {
      "cell_type": "markdown",
      "metadata": {
        "id": "yUyHrXsgeZoL"
      },
      "source": [
        "Leet 471 problem. "
      ]
    },
    {
      "cell_type": "code",
      "metadata": {
        "id": "7zaqFc4rffVl"
      },
      "source": [
        "print(\"Hello World\")\n",
        "\n",
        "input_string = \"aabcbcaabaab\"\n",
        "\n",
        "\n",
        "curr_enc_str = ''\n",
        "prev_sub_str = ''\n",
        "for i in range(len(input_string)):\n",
        "  print(input_string[i])"
      ],
      "execution_count": null,
      "outputs": []
    },
    {
      "cell_type": "code",
      "metadata": {
        "id": "oUKyDAZ-JT9x",
        "colab": {
          "base_uri": "https://localhost:8080/"
        },
        "outputId": "f7ba2901-ba93-4bc7-f89a-91e35a734cd7"
      },
      "source": [
        "import math\n",
        "\n",
        "def find_sequences(input_str):\n",
        "  input_sequence = list()\n",
        "  seq_count = 1\n",
        "  enc_seq_str = ''\n",
        "  prior_str = ''\n",
        "  post_str = ''\n",
        "  for incr in range(1,len(input_str)//2+1):\n",
        "    # print(\"-----{}-----\".format(incr))\n",
        "    seq_str = list()\n",
        "    j = 0\n",
        "    while j < len(input_str):\n",
        "      # print(\"j - {}, incr - {}\".format(j, incr))\n",
        "      k = j+incr\n",
        "      if k+incr > len(input_str):\n",
        "        if seq_count > 1:\n",
        "          post_str = input_str[j+incr:]\n",
        "          input_sequence.append(\"{}{}[{}]{}\".format(prior_str,seq_count, enc_seq_str, post_str))\n",
        "          # print(\"{} - {} - {}\".format(prior_str, enc_seq_str, post_str))\n",
        "          prior_str = ''\n",
        "          post_str = ''\n",
        "          seq_count = 1\n",
        "          enc_seq_str = ''\n",
        "        j += 1\n",
        "        break\n",
        "      if input_str[j:j+incr] == input_str[k:k+incr]:\n",
        "        # print(\"{} == {}\".format(input_str[j:j+incr], input_str[k:k+incr]))\n",
        "        if seq_count == 1:\n",
        "          prior_str = input_str[:j]\n",
        "          # print(\"prior_str - {}\".format(prior_str))\n",
        "        seq_count += 1\n",
        "        enc_seq_str = input_str[j:j+incr]\n",
        "        j += incr\n",
        "      elif seq_count > 1:\n",
        "        post_str = input_str[j+incr:]\n",
        "        # print(\"{} - {} - {}\".format(prior_str, enc_seq_str, post_str))\n",
        "        input_sequence.append(\"{}{}[{}]{}\".format(prior_str,seq_count, enc_seq_str, post_str))\n",
        "        seq_count = 1\n",
        "        enc_seq_str = ''\n",
        "        prior_str = ''\n",
        "        post_str = ''\n",
        "        j += 1 \n",
        "      else:\n",
        "        # print(\"NO MATCH\")\n",
        "        j += 1 \n",
        "        continue\n",
        "        \n",
        "  return input_sequence      \n",
        "\n",
        "input_str = \"aabcbcaaaabaabaab\"\n",
        "print(input_str)\n",
        "print(\"Sequences found are:\")\n",
        "find_sequences(input_str)"
      ],
      "execution_count": 53,
      "outputs": [
        {
          "output_type": "stream",
          "text": [
            "aabcbcaaaabaabaab\n",
            "Sequences found are:\n"
          ],
          "name": "stdout"
        },
        {
          "output_type": "execute_result",
          "data": {
            "text/plain": [
              "['2[a]bcbcaaaabaabaab',\n",
              " 'aabcbc4[a]baabaab',\n",
              " 'aabcbcaaaab2[a]baab',\n",
              " 'aabcbcaaaabaab2[a]b',\n",
              " 'aa2[bc]aaaabaabaab',\n",
              " 'aabcbc2[aa]baabaab',\n",
              " 'aabcbcaa3[aab]']"
            ]
          },
          "metadata": {
            "tags": []
          },
          "execution_count": 53
        }
      ]
    },
    {
      "cell_type": "code",
      "metadata": {
        "id": "nr84sv76SPBd",
        "colab": {
          "base_uri": "https://localhost:8080/"
        },
        "outputId": "cf688882-28cd-4c75-8e85-004ef7ce008e"
      },
      "source": [
        "str = \"aabc\"\n",
        "x=0\n",
        "y=2\n",
        "print(str[x+y:x+y+2])"
      ],
      "execution_count": null,
      "outputs": [
        {
          "output_type": "stream",
          "text": [
            "bc\n"
          ],
          "name": "stdout"
        }
      ]
    }
  ]
}